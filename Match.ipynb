{
 "cells": [
  {
   "cell_type": "code",
   "execution_count": 8,
   "id": "1117f0a8-1e73-4996-b105-bcdf3ab4e780",
   "metadata": {},
   "outputs": [
    {
     "name": "stdout",
     "output_type": "stream",
     "text": [
      "Thursday\n"
     ]
    }
   ],
   "source": [
    "#Match\n",
    "\n",
    "'''\n",
    "A expressão é avaliada uma vez.match\n",
    "O valor da expressão é comparado com os valores de cada .case\n",
    "Se houver uma correspondência, o bloco de código associado será executado.\n",
    "\n",
    "O exemplo abaixo usa o número do dia da semana para imprimir o nome do dia da semana:\n",
    "'''\n",
    "day = 4\n",
    "match day:\n",
    "  case 1:\n",
    "    print(\"Monday\")\n",
    "  case 2:\n",
    "    print(\"Tuesday\")\n",
    "  case 3:\n",
    "    print(\"Wednesday\")\n",
    "  case 4:\n",
    "    print(\"Thursday\")\n",
    "  case 5:\n",
    "    print(\"Friday\")\n",
    "  case 6:\n",
    "    print(\"Saturday\")\n",
    "  case 7:\n",
    "    print(\"Sunday\")\n",
    "  case _:\n",
    "      print('Undefined')\n",
    "\n",
    "'''\n",
    "Use o caractere sublinhado _ como o último case se você quiser que um bloco de código seja executado quando não houver outras correspondências:\n",
    "'''"
   ]
  },
  {
   "cell_type": "code",
   "execution_count": 10,
   "id": "277a9f1d-3378-41ff-86b0-a67372ecd2a8",
   "metadata": {},
   "outputs": [
    {
     "name": "stdin",
     "output_type": "stream",
     "text": [
      " d\n"
     ]
    },
    {
     "name": "stdout",
     "output_type": "stream",
     "text": [
      "Consoante\n"
     ]
    }
   ],
   "source": [
    "letra = input('Digite uma letra').lower()\n",
    "\n",
    "match letra:\n",
    "    case 'a' |'e' |'i' |'o' |'u':\n",
    "        print('Vogal')\n",
    "    case _:\n",
    "        print('Consoante')"
   ]
  },
  {
   "cell_type": "code",
   "execution_count": 16,
   "id": "0512f53e-fdc9-4941-9b3a-063f4e526b7c",
   "metadata": {},
   "outputs": [
    {
     "name": "stdout",
     "output_type": "stream",
     "text": [
      "Ana é menor de idade\n"
     ]
    }
   ],
   "source": [
    "usuario = {'nome': 'Ana', 'idade': 12}\n",
    "\n",
    "match usuario:\n",
    "    case {'nome': n, 'idade': i} if i >= 18:\n",
    "        print(f'{n} é maior de idade')\n",
    "    case{'nome': n, 'idade': i}:\n",
    "        print(f'{n} é menor de idade')"
   ]
  },
  {
   "cell_type": "code",
   "execution_count": 21,
   "id": "19e5f031-cbc2-486d-8afd-1614977682dd",
   "metadata": {},
   "outputs": [
    {
     "name": "stdin",
     "output_type": "stream",
     "text": [
      "Entre com um número entre 1 e 12:  1\n"
     ]
    },
    {
     "name": "stdout",
     "output_type": "stream",
     "text": [
      "Janeiro\n"
     ]
    }
   ],
   "source": [
    "# Exercicio 01 - \n",
    "\n",
    "month_in_number = int(input('Entre com um número entre 1 e 12: '))\n",
    "\n",
    "match month_in_number:\n",
    "    case 1:\n",
    "        print('Janeiro')\n",
    "    case 2:\n",
    "        print('Fevereiro')\n",
    "    case 3:\n",
    "        print('Março')\n",
    "    case 4:\n",
    "        print('Abril')\n",
    "    case 5:\n",
    "        print('Maio')\n",
    "    case 6:\n",
    "        print('Junho')\n",
    "    case 7:\n",
    "        print('Julho')\n",
    "    case 8:\n",
    "        print('Agosto')\n",
    "    case 9:\n",
    "        print('Setembro')\n",
    "    case 10:\n",
    "        print('Outubro')\n",
    "    case 11:\n",
    "        print('Novembro')   \n",
    "    case 12:\n",
    "        print('Dezembro')\n",
    "    case _:\n",
    "        print('Undefined')"
   ]
  },
  {
   "cell_type": "code",
   "execution_count": 13,
   "id": "bc589cbb-0fa0-499a-bf50-595cb7fa13e0",
   "metadata": {},
   "outputs": [
    {
     "name": "stdin",
     "output_type": "stream",
     "text": [
      "Digite uma letra a\n"
     ]
    },
    {
     "name": "stdout",
     "output_type": "stream",
     "text": [
      "Vogal\n"
     ]
    }
   ],
   "source": [
    "# 02 - Identificar se uma letra é vogal ou consoante\n",
    "\n",
    "letra = input('Digite uma letra').lower()\n",
    "\n",
    "match letra:\n",
    "    case 'a' |'e' |'i' |'o' |'u':\n",
    "        print('Vogal')\n",
    "    case _:\n",
    "        print('Consoante')"
   ]
  },
  {
   "cell_type": "code",
   "execution_count": 24,
   "id": "2887e480-cb95-484f-808e-753ff22a69fb",
   "metadata": {},
   "outputs": [
    {
     "name": "stdout",
     "output_type": "stream",
     "text": [
      "Negativo\n"
     ]
    }
   ],
   "source": [
    "# 03 - Classisficar um número como positivo ou negativo\n",
    "\n",
    "num = -1\n",
    "\n",
    "match num:\n",
    "    case num if num < 0:\n",
    "        print('Negativo')\n",
    "    case num if num > 0:\n",
    "        print('Positivo')\n",
    "    case num:\n",
    "        print('Zero')"
   ]
  },
  {
   "cell_type": "code",
   "execution_count": 26,
   "id": "1ef33403-0abd-45d8-8135-3c86259acb87",
   "metadata": {},
   "outputs": [
    {
     "name": "stdout",
     "output_type": "stream",
     "text": [
      "O número 1 é ímpar\n"
     ]
    }
   ],
   "source": [
    "#04 - Determinar de um número é par ou impar\n",
    "\n",
    "\n",
    "num = 1\n",
    "\n",
    "match num:\n",
    "    case num if num  %  2 == 0:\n",
    "        print(f'O número {num} é par')\n",
    "    case num:\n",
    "        print(f'O número {num} é ímpar')\n",
    "\n"
   ]
  },
  {
   "cell_type": "code",
   "execution_count": 30,
   "id": "b5f77f25-8e63-4be2-81bb-f3da32386d8d",
   "metadata": {},
   "outputs": [
    {
     "name": "stdout",
     "output_type": "stream",
     "text": [
      "F\n"
     ]
    }
   ],
   "source": [
    "# Avaliar notas e imprimir o conceito (A,B,C,D,E,F)\n",
    "\n",
    "nota = 5.0\n",
    "\n",
    "match nota:\n",
    "    case nota if nota >= 9.0 and nota <= 10.0:\n",
    "        print('A')\n",
    "    case nota if nota >= 7.0 and nota < 9.0:\n",
    "        print('B')\n",
    "    case nota if nota > 5.0 and nota < 7.0:\n",
    "        print('C')\n",
    "    case nota:\n",
    "        print('F')\n",
    "        \n",
    "\n",
    "\n"
   ]
  },
  {
   "cell_type": "code",
   "execution_count": null,
   "id": "8c73e9b4-fa6f-446e-b236-0e34facf0971",
   "metadata": {},
   "outputs": [],
   "source": []
  }
 ],
 "metadata": {
  "kernelspec": {
   "display_name": "Python 3 (ipykernel)",
   "language": "python",
   "name": "python3"
  },
  "language_info": {
   "codemirror_mode": {
    "name": "ipython",
    "version": 3
   },
   "file_extension": ".py",
   "mimetype": "text/x-python",
   "name": "python",
   "nbconvert_exporter": "python",
   "pygments_lexer": "ipython3",
   "version": "3.12.7"
  }
 },
 "nbformat": 4,
 "nbformat_minor": 5
}
