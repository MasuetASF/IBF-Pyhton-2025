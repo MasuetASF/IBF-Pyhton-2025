{
 "cells": [
  {
   "cell_type": "code",
   "execution_count": 2,
   "id": "79cc8082-6eb8-4476-8718-a3c3f5b736ac",
   "metadata": {},
   "outputs": [
    {
     "name": "stdout",
     "output_type": "stream",
     "text": [
      "Programador\n",
      "gramador\n",
      "ador\n",
      "ador\n"
     ]
    }
   ],
   "source": [
    "#Slicing (fatiamento) é a técnica de extrair uma sub-string de uma string\n",
    "\n",
    "texto = 'Programador'\n",
    "print(texto[0:])\n",
    "print(texto[3:])\n",
    "print(texto[7:])\n",
    "print(texto[-4:])"
   ]
  },
  {
   "cell_type": "code",
   "execution_count": 38,
   "id": "8ab02d7a-00af-4127-9c85-0023df6b0037",
   "metadata": {},
   "outputs": [
    {
     "name": "stdout",
     "output_type": "stream",
     "text": [
      "Programador\n",
      "012345678910\n",
      "\n",
      "1-imprima do índice 2 até o final\n",
      "ogramador\n",
      "2-imprima do índice 4 até o final\n",
      "ramador\n",
      "3-imprima do índice 7 até o final\n",
      "ador\n",
      "3-imprima do índice 7 até o final\n",
      "ador\n",
      "4-imprima do índice 1 até o final\n",
      "rogramador\n",
      "5-imprima do índice 3 até o final\n",
      "gramador\n",
      "6-imprima do índice 6 até o final\n",
      "mador\n",
      "7-imprima do índice 5 até o final\n",
      "amador\n",
      "8-imprima do índice 9 até o final\n",
      "or\n",
      "9-imprima do índice 8 até o final\n",
      "dor\n",
      "10-imprima do índice 10 até o final\n",
      "r\n"
     ]
    }
   ],
   "source": [
    "#Exemplos de slicing - INICIO\n",
    "\n",
    "texto = 'Programador'\n",
    "\n",
    "print(texto)\n",
    "print('012345678910')\n",
    "\n",
    "print('\\n1-imprima do índice 2 até o final')\n",
    "print(texto[2:])\n",
    "\n",
    "print('2-imprima do índice 4 até o final')\n",
    "print(texto[4:])\n",
    "\n",
    "print('3-imprima do índice 7 até o final')\n",
    "print(texto[7:])\n",
    "\n",
    "print('3-imprima do índice 7 até o final')\n",
    "print(texto[7:])\n",
    "\n",
    "print('4-imprima do índice 1 até o final')\n",
    "print(texto[1:])\n",
    "\n",
    "print('5-imprima do índice 3 até o final')\n",
    "print(texto[3:])\n",
    "\n",
    "print('6-imprima do índice 6 até o final')\n",
    "print(texto[6:])\n",
    "\n",
    "print('7-imprima do índice 5 até o final')\n",
    "print(texto[5:])\n",
    "\n",
    "print('8-imprima do índice 9 até o final')\n",
    "print(texto[9:])\n",
    "\n",
    "print('9-imprima do índice 8 até o final')\n",
    "print(texto[8:])\n",
    "\n",
    "print('10-imprima do índice 10 até o final')\n",
    "print(texto[10:])\n"
   ]
  },
  {
   "cell_type": "code",
   "execution_count": 39,
   "id": "78e9d206-cfe1-4db3-a20a-34fe4aeaede4",
   "metadata": {},
   "outputs": [
    {
     "name": "stdout",
     "output_type": "stream",
     "text": [
      "Progrmador\n",
      "012345678910\n",
      "Progr\n",
      "Programa\n",
      "Programa\n",
      "Programador\n"
     ]
    }
   ],
   "source": [
    "#Slicing - FIM\n",
    "\n",
    "texto = 'Programador'\n",
    "\n",
    "print('Progrmador')\n",
    "print('012345678910')\n",
    "\n",
    "print(texto[:5])\n",
    "print(texto[:8])\n",
    "print(texto[:-3])\n",
    "print(texto[:])"
   ]
  },
  {
   "cell_type": "code",
   "execution_count": 40,
   "id": "d949a22e-a0e1-4101-aad9-2c3dc616e3f5",
   "metadata": {},
   "outputs": [
    {
     "name": "stdout",
     "output_type": "stream",
     "text": [
      "Programador\n",
      "012345678910\n",
      "1-Imprima do inicio até antes do índice 2\n",
      "Pr\n",
      "2-Imprima do inicio até antes do índice 4\n",
      "Prog\n",
      "3-Imprima do inicio até antes do índice 7\n",
      "Program\n",
      "4-Imprima do inicio até antes do índice 1\n",
      "P\n",
      "5-Imprima do inicio até antes do índice 3\n",
      "Pro\n",
      "6-Imprima do inicio até antes do índice 6\n",
      "Progra\n",
      "7-Imprima do inicio até antes do índice 5\n",
      "Progr\n",
      "8-Imprima do inicio até antes do índice 9\n",
      "Programad\n",
      "9-Imprima do inicio até antes do índice 8\n",
      "Programa\n",
      "10-Imprima do inicio até antes do índice 10\n",
      "Programado\n"
     ]
    }
   ],
   "source": [
    "#Exemplos de slicing - FIM\n",
    "\n",
    "texto = 'Programador'\n",
    "\n",
    "print(texto)\n",
    "print('012345678910')\n",
    "\n",
    "print('1-Imprima do inicio até antes do índice 2')\n",
    "print(texto[:2])\n",
    "\n",
    "print('2-Imprima do inicio até antes do índice 4')\n",
    "print(texto[:4])\n",
    "\n",
    "print('3-Imprima do inicio até antes do índice 7')\n",
    "print(texto[:7])\n",
    "\n",
    "print('4-Imprima do inicio até antes do índice 1')\n",
    "print(texto[:1])\n",
    "\n",
    "print('5-Imprima do inicio até antes do índice 3')\n",
    "print(texto[:3])\n",
    "\n",
    "print('6-Imprima do inicio até antes do índice 6')\n",
    "print(texto[:6])\n",
    "\n",
    "print('7-Imprima do inicio até antes do índice 5')\n",
    "print(texto[:5])\n",
    "\n",
    "print('8-Imprima do inicio até antes do índice 9')\n",
    "print(texto[:9])\n",
    "\n",
    "print('9-Imprima do inicio até antes do índice 8')\n",
    "print(texto[:8])\n",
    "\n",
    "print('10-Imprima do inicio até antes do índice 10')\n",
    "print(texto[:10])\n",
    "\n"
   ]
  },
  {
   "cell_type": "code",
   "execution_count": 41,
   "id": "40e65b15-b094-45f5-8c4a-7683be2714d0",
   "metadata": {},
   "outputs": [
    {
     "name": "stdout",
     "output_type": "stream",
     "text": [
      "Programador\n",
      "012345678910\n",
      "1-Imprima do índice 1 ao 5\n",
      "rogr\n",
      "2-Imprima do índice 2 ao 6\n",
      "ogra\n",
      "3-Imprima do índice 0 ao 4\n",
      "Prog\n",
      "4-Imprima do índice 3 ao 8\n",
      "grama\n",
      "5-Imprima do índice 5 ao 9\n",
      "amad\n",
      "6-Imprima do índice 4 ao 10\n",
      "ramado\n",
      "7-Imprima do índice 2 ao 7\n",
      "ogram\n",
      "8-Imprima do índice 6 ao 11\n",
      "amador\n",
      "9-Imprima do índice 1 ao 3\n",
      "rog\n",
      "10-Imprima do índice 0 ao 6\n",
      "Program\n"
     ]
    }
   ],
   "source": [
    "#Slicing - INICIO E FIM\n",
    "\n",
    "texto = 'Programador'\n",
    "\n",
    "print(texto)\n",
    "print('012345678910')\n",
    "\n",
    "print('1-Imprima do índice 1 ao 5')\n",
    "print(texto[1:5])\n",
    "\n",
    "print('2-Imprima do índice 2 ao 6')\n",
    "print(texto[2:6])\n",
    "\n",
    "print('3-Imprima do índice 0 ao 4')\n",
    "print(texto[0:4])\n",
    "\n",
    "print('4-Imprima do índice 3 ao 8')\n",
    "print(texto[3:8])\n",
    "\n",
    "print('5-Imprima do índice 5 ao 9')\n",
    "print(texto[5:9])\n",
    "\n",
    "\n",
    "print('6-Imprima do índice 4 ao 10')\n",
    "print(texto[4:10])\n",
    "\n",
    "print('7-Imprima do índice 2 ao 7')\n",
    "print(texto[2:-4])\n",
    "\n",
    "print('8-Imprima do índice 6 ao 11')\n",
    "print(texto[-6:11])\n",
    "\n",
    "print('9-Imprima do índice 1 ao 3')\n",
    "print(texto[1:-7])\n",
    "\n",
    "print('10-Imprima do índice 0 ao 6')\n",
    "print(texto[0:-4])"
   ]
  },
  {
   "cell_type": "code",
   "execution_count": 42,
   "id": "cc639fc5-8849-46c3-8646-fce6952fed48",
   "metadata": {},
   "outputs": [
    {
     "name": "stdout",
     "output_type": "stream",
     "text": [
      "Programador\n",
      "012345678910\n",
      "1-Imprima com passo 2\n",
      "Pormdr\n",
      "2-Imprima com passo 4\n",
      "Prd\n",
      "3-Imprima com passo 5\n",
      "Par\n",
      "4-Imprima com passo 6\n",
      "Pm\n",
      "5-Imprima com passo 7\n",
      "Pa\n",
      "6-Imprima com passo 8\n",
      "Pd\n",
      "6-Imprima com passo -1\n",
      "rodamargorP\n",
      "6-Imprima com passo -2\n",
      "rdmroP\n",
      "6-Imprima com passo -3\n",
      "rarr\n"
     ]
    }
   ],
   "source": [
    "#Slice PASSO\n",
    "\n",
    "texto = 'Programador'\n",
    "\n",
    "print(texto)\n",
    "print('012345678910')\n",
    "\n",
    "print('1-Imprima com passo 2')\n",
    "print(texto[::2])\n",
    "\n",
    "print('2-Imprima com passo 4')\n",
    "print(texto[::4])\n",
    "\n",
    "print('3-Imprima com passo 5')\n",
    "print(texto[::5])\n",
    "\n",
    "print('4-Imprima com passo 6')\n",
    "print(texto[::6])\n",
    "\n",
    "\n",
    "print('5-Imprima com passo 7')\n",
    "print(texto[::7])\n",
    "\n",
    "print('6-Imprima com passo 8')\n",
    "print(texto[::8])\n",
    "\n",
    "print('6-Imprima com passo -1')\n",
    "print(texto[::-1])\n",
    "\n",
    "print('6-Imprima com passo -2')\n",
    "print(texto[::-2])\n",
    "\n",
    "\n",
    "print('6-Imprima com passo -3')\n",
    "print(texto[::-3])\n",
    "\n"
   ]
  },
  {
   "cell_type": "code",
   "execution_count": 44,
   "id": "ef0860b0-e7b7-414a-a3a2-c02e2a42d1cb",
   "metadata": {},
   "outputs": [
    {
     "name": "stdout",
     "output_type": "stream",
     "text": [
      "Programador\n",
      "012345678910\n",
      "Programador\n",
      "ramador\n",
      "Programado\n",
      "ormd\n",
      "rra\n",
      "rodamargor\n",
      "oaagr\n"
     ]
    }
   ],
   "source": [
    "#Slice INICIO, FIM, PASSO\n",
    "\n",
    "texto = 'Programador'\n",
    "\n",
    "print(texto)\n",
    "print('012345678910')\n",
    "\n",
    "#Ex:\n",
    "\n",
    "print(texto[0:11:1])\n",
    "print(texto[4:11:1])\n",
    "print(texto[0:-1:1])\n",
    "print(texto[2:9:2])\n",
    "print(texto[1:-1:3])\n",
    "print(texto[10:0:-1])\n",
    "print(texto[-2:0:-2])\n"
   ]
  },
  {
   "cell_type": "code",
   "execution_count": 68,
   "id": "f6dd8910-96bf-4e40-a8d3-4753ea4f0f87",
   "metadata": {},
   "outputs": [
    {
     "name": "stdout",
     "output_type": "stream",
     "text": [
      "Programador\n",
      "012345678910\n",
      "1-Imprimir do índice 1 ao 8, pulando 2\n",
      "rgaa\n",
      "2-Imprimir do índice 2 ao 9, pulando 3\n",
      "oad\n",
      "3-Imprimir do índice 3 ao 7, pulando 2\n",
      "ga\n",
      "4-Imprimir do índice 0 ao 6, pulando 2\n",
      "Por\n",
      "5-Imprimir do índice 4 ao 10, pulando 2\n",
      "rmd\n",
      "6-Imprimir do índice 1 ao 9, pulando 4\n",
      "ra\n",
      "7-Imprimir do índice 3 ao 8, pulando 3\n",
      "gm\n",
      "8-Imprimir do índice 0 ao 11, pulando 3\n",
      "Pgmo\n",
      "9-Imprimir do índice 5 ao 1, pulando -1\n",
      "argor\n",
      "10-Imprimir do índice 10 ao 2, pulando -2\n",
      "rdmro\n",
      "11-Imprimir do índice 7 ao 5, pulando -1\n",
      "ama\n"
     ]
    }
   ],
   "source": [
    "#Excercicios de SLICING INICIO,FIM,PASSO\n",
    "\n",
    "texto = 'Programador'\n",
    "\n",
    "print(texto)\n",
    "print('012345678910')\n",
    "\n",
    "print('1-Imprimir do índice 1 ao 8, pulando 2')\n",
    "print(texto[1:8:2])\n",
    "\n",
    "print('2-Imprimir do índice 2 ao 9, pulando 3')\n",
    "print(texto[2:9:3])\n",
    "\n",
    "print('3-Imprimir do índice 3 ao 7, pulando 2')\n",
    "print(texto[3:7:2])\n",
    "\n",
    "print('4-Imprimir do índice 0 ao 6, pulando 2')\n",
    "print(texto[0:5:2])\n",
    "\n",
    "print('5-Imprimir do índice 4 ao 10, pulando 2')\n",
    "print(texto[4:10:2])\n",
    "\n",
    "print('6-Imprimir do índice 1 ao 9, pulando 4')\n",
    "print(texto[1:9:4])\n",
    "\n",
    "print('7-Imprimir do índice 3 ao 8, pulando 3')\n",
    "print(texto[3:8:3])\n",
    "\n",
    "\n",
    "print('8-Imprimir do índice 0 ao 11, pulando 3')\n",
    "print(texto[0:11:3])\n",
    "\n",
    "print('9-Imprimir do índice 5 ao 1, pulando -1')\n",
    "print(texto[-6:0:-1])\n",
    "\n",
    "print('10-Imprimir do índice 10 ao 2, pulando -2')\n",
    "print(texto[-1:1:-2])\n",
    "\n",
    "print('11-Imprimir do índice 7 ao 5, pulando -1')\n",
    "print(texto[-4:4:-1])\n"
   ]
  },
  {
   "cell_type": "code",
   "execution_count": 69,
   "id": "3038afed-61db-403c-93b7-a92693183181",
   "metadata": {},
   "outputs": [
    {
     "name": "stdin",
     "output_type": "stream",
     "text": [
      "Digite um palavra cachorro\n"
     ]
    },
    {
     "name": "stdout",
     "output_type": "stream",
     "text": [
      "ccor\n"
     ]
    }
   ],
   "source": [
    "#Exercicio prático 1\n",
    "#Peça ao usuário para digitar uma palavra e exiba os caracteres nas posições pares\n",
    "\n",
    "#resposta\n",
    "texto = input ('Digite um palavra')\n",
    "print(texto[::2])"
   ]
  },
  {
   "cell_type": "code",
   "execution_count": 71,
   "id": "6266bee3-4326-4aa5-8896-d404fada7f35",
   "metadata": {},
   "outputs": [
    {
     "name": "stdin",
     "output_type": "stream",
     "text": [
      "Digite uma frase Mariana conta um\n"
     ]
    },
    {
     "name": "stdout",
     "output_type": "stream",
     "text": [
      "m to nia\n"
     ]
    }
   ],
   "source": [
    "#Exercicio prático 2\n",
    "\n",
    "#Peça ao usuário uma frase e mostre-a invertida, pulando de 2 em 2.\n",
    "\n",
    "texto = input ('Digite uma frase')\n",
    "print(texto[::-2])"
   ]
  },
  {
   "cell_type": "code",
   "execution_count": 76,
   "id": "9f98b5e6-774a-4388-a54d-670c65f87a06",
   "metadata": {},
   "outputs": [
    {
     "name": "stdin",
     "output_type": "stream",
     "text": [
      "Digite uma palavra Constantinopla\n"
     ]
    },
    {
     "name": "stdout",
     "output_type": "stream",
     "text": [
      "alpon\n"
     ]
    }
   ],
   "source": [
    "#Exercicio prático 3\n",
    "\n",
    "#Solicite ao usuário uma palavra e exiba apenas os últimos 5 caracteres, invertido.\n",
    "texto = input ('Digite uma palavra')\n",
    "print(texto[:-6:-1])"
   ]
  },
  {
   "cell_type": "code",
   "execution_count": null,
   "id": "b0d42905-2614-4614-b8ac-5cf7f808c13d",
   "metadata": {},
   "outputs": [],
   "source": []
  }
 ],
 "metadata": {
  "kernelspec": {
   "display_name": "Python 3 (ipykernel)",
   "language": "python",
   "name": "python3"
  },
  "language_info": {
   "codemirror_mode": {
    "name": "ipython",
    "version": 3
   },
   "file_extension": ".py",
   "mimetype": "text/x-python",
   "name": "python",
   "nbconvert_exporter": "python",
   "pygments_lexer": "ipython3",
   "version": "3.12.7"
  }
 },
 "nbformat": 4,
 "nbformat_minor": 5
}
