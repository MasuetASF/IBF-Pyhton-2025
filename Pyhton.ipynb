{
 "cells": [
  {
   "cell_type": "code",
   "execution_count": 2,
   "id": "79cc8082-6eb8-4476-8718-a3c3f5b736ac",
   "metadata": {},
   "outputs": [
    {
     "name": "stdout",
     "output_type": "stream",
     "text": [
      "Programador\n",
      "gramador\n",
      "ador\n",
      "ador\n"
     ]
    }
   ],
   "source": [
    "#Slicing (fatiamento) é a técnica de extrair uma sub-string de uma string\n",
    "\n",
    "texto = 'Programador'\n",
    "print(texto[0:])\n",
    "print(texto[3:])\n",
    "print(texto[7:])\n",
    "print(texto[-4:])"
   ]
  },
  {
   "cell_type": "code",
   "execution_count": 1,
   "id": "8ab02d7a-00af-4127-9c85-0023df6b0037",
   "metadata": {},
   "outputs": [
    {
     "name": "stdout",
     "output_type": "stream",
     "text": [
      "Progrmador\n",
      "12345678910\n",
      "\n",
      "1-imprima do índice 2 até o final\n",
      "ogramador\n",
      "2-imprima do índice 4 até o final\n",
      "ramador\n",
      "3-imprima do índice 7 até o final\n",
      "ador\n",
      "3-imprima do índice 7 até o final\n",
      "ador\n",
      "4-imprima do índice 1 até o final\n",
      "rogramador\n",
      "5-imprima do índice 3 até o final\n",
      "gramador\n",
      "6-imprima do índice 6 até o final\n",
      "mador\n",
      "7-imprima do índice 5 até o final\n",
      "amador\n",
      "8-imprima do índice 9 até o final\n",
      "or\n",
      "9-imprima do índice 8 até o final\n",
      "dor\n",
      "10-imprima do índice 10 até o final\n",
      "r\n"
     ]
    }
   ],
   "source": [
    "#Exemplos de slicing - INICIO\n",
    "\n",
    "texto = 'Programador'\n",
    "\n",
    "print('Progrmador')\n",
    "print('12345678910')\n",
    "\n",
    "print('\\n1-imprima do índice 2 até o final')\n",
    "print(texto[2:])\n",
    "\n",
    "print('2-imprima do índice 4 até o final')\n",
    "print(texto[4:])\n",
    "\n",
    "print('3-imprima do índice 7 até o final')\n",
    "print(texto[7:])\n",
    "\n",
    "print('3-imprima do índice 7 até o final')\n",
    "print(texto[7:])\n",
    "\n",
    "print('4-imprima do índice 1 até o final')\n",
    "print(texto[1:])\n",
    "\n",
    "print('5-imprima do índice 3 até o final')\n",
    "print(texto[3:])\n",
    "\n",
    "print('6-imprima do índice 6 até o final')\n",
    "print(texto[6:])\n",
    "\n",
    "print('7-imprima do índice 5 até o final')\n",
    "print(texto[5:])\n",
    "\n",
    "print('8-imprima do índice 9 até o final')\n",
    "print(texto[9:])\n",
    "\n",
    "print('9-imprima do índice 8 até o final')\n",
    "print(texto[8:])\n",
    "\n",
    "print('10-imprima do índice 10 até o final')\n",
    "print(texto[10:])\n"
   ]
  },
  {
   "cell_type": "code",
   "execution_count": 3,
   "id": "78e9d206-cfe1-4db3-a20a-34fe4aeaede4",
   "metadata": {},
   "outputs": [
    {
     "name": "stdout",
     "output_type": "stream",
     "text": [
      "Progr\n",
      "Programa\n",
      "Programa\n",
      "Programador\n"
     ]
    }
   ],
   "source": [
    "#Slicing - FIM\n",
    "\n",
    "texto = 'Programador'\n",
    "\n",
    "print('Progrmador')\n",
    "print('12345678910')\n",
    "\n",
    "print(texto[:5])\n",
    "print(texto[:8])\n",
    "print(texto[:-3])\n",
    "print(texto[:])"
   ]
  },
  {
   "cell_type": "code",
   "execution_count": 11,
   "id": "d949a22e-a0e1-4101-aad9-2c3dc616e3f5",
   "metadata": {},
   "outputs": [
    {
     "name": "stdout",
     "output_type": "stream",
     "text": [
      "Progrmador\n",
      "12345678910\n",
      "1-Imprima do inicio até antes do índice 2\n",
      "Pr\n",
      "2-Imprima do inicio até antes do índice 4\n",
      "Prog\n",
      "3-Imprima do inicio até antes do índice 7\n",
      "Program\n",
      "4-Imprima do inicio até antes do índice 1\n",
      "P\n",
      "5-Imprima do inicio até antes do índice 3\n",
      "Pro\n",
      "6-Imprima do inicio até antes do índice 6\n",
      "Progra\n",
      "7-Imprima do inicio até antes do índice 5\n",
      "Progr\n",
      "8-Imprima do inicio até antes do índice 9\n",
      "Programad\n",
      "9-Imprima do inicio até antes do índice 8\n",
      "Programa\n",
      "10-Imprima do inicio até antes do índice 10\n",
      "Programado\n"
     ]
    }
   ],
   "source": [
    "#Exemplos de slicing - FIM\n",
    "\n",
    "texto = 'Programador'\n",
    "\n",
    "print('Progrmador')\n",
    "print('12345678910')\n",
    "\n",
    "print('1-Imprima do inicio até antes do índice 2')\n",
    "print(texto[:2])\n",
    "\n",
    "print('2-Imprima do inicio até antes do índice 4')\n",
    "print(texto[:4])\n",
    "\n",
    "print('3-Imprima do inicio até antes do índice 7')\n",
    "print(texto[:7])\n",
    "\n",
    "print('4-Imprima do inicio até antes do índice 1')\n",
    "print(texto[:1])\n",
    "\n",
    "print('5-Imprima do inicio até antes do índice 3')\n",
    "print(texto[:3])\n",
    "\n",
    "print('6-Imprima do inicio até antes do índice 6')\n",
    "print(texto[:6])\n",
    "\n",
    "print('7-Imprima do inicio até antes do índice 5')\n",
    "print(texto[:5])\n",
    "\n",
    "print('8-Imprima do inicio até antes do índice 9')\n",
    "print(texto[:9])\n",
    "\n",
    "print('9-Imprima do inicio até antes do índice 8')\n",
    "print(texto[:8])\n",
    "\n",
    "print('10-Imprima do inicio até antes do índice 10')\n",
    "print(texto[:10])\n",
    "\n"
   ]
  },
  {
   "cell_type": "code",
   "execution_count": null,
   "id": "40e65b15-b094-45f5-8c4a-7683be2714d0",
   "metadata": {},
   "outputs": [],
   "source": []
  }
 ],
 "metadata": {
  "kernelspec": {
   "display_name": "Python 3 (ipykernel)",
   "language": "python",
   "name": "python3"
  },
  "language_info": {
   "codemirror_mode": {
    "name": "ipython",
    "version": 3
   },
   "file_extension": ".py",
   "mimetype": "text/x-python",
   "name": "python",
   "nbconvert_exporter": "python",
   "pygments_lexer": "ipython3",
   "version": "3.12.7"
  }
 },
 "nbformat": 4,
 "nbformat_minor": 5
}
