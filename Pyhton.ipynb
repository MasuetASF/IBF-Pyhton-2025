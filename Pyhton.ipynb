{
 "cells": [
  {
   "cell_type": "code",
   "execution_count": 2,
   "id": "79cc8082-6eb8-4476-8718-a3c3f5b736ac",
   "metadata": {},
   "outputs": [
    {
     "name": "stdout",
     "output_type": "stream",
     "text": [
      "Programador\n",
      "gramador\n",
      "ador\n",
      "ador\n"
     ]
    }
   ],
   "source": [
    "#Slicing (fatiamento) é a técnica de extrair uma sub-string de uma string\n",
    "\n",
    "texto = 'Programador'\n",
    "print(texto[0:])\n",
    "print(texto[3:])\n",
    "print(texto[7:])\n",
    "print(texto[-4:])"
   ]
  },
  {
   "cell_type": "code",
   "execution_count": 38,
   "id": "8ab02d7a-00af-4127-9c85-0023df6b0037",
   "metadata": {},
   "outputs": [
    {
     "name": "stdout",
     "output_type": "stream",
     "text": [
      "Programador\n",
      "012345678910\n",
      "\n",
      "1-imprima do índice 2 até o final\n",
      "ogramador\n",
      "2-imprima do índice 4 até o final\n",
      "ramador\n",
      "3-imprima do índice 7 até o final\n",
      "ador\n",
      "3-imprima do índice 7 até o final\n",
      "ador\n",
      "4-imprima do índice 1 até o final\n",
      "rogramador\n",
      "5-imprima do índice 3 até o final\n",
      "gramador\n",
      "6-imprima do índice 6 até o final\n",
      "mador\n",
      "7-imprima do índice 5 até o final\n",
      "amador\n",
      "8-imprima do índice 9 até o final\n",
      "or\n",
      "9-imprima do índice 8 até o final\n",
      "dor\n",
      "10-imprima do índice 10 até o final\n",
      "r\n"
     ]
    }
   ],
   "source": [
    "#Exemplos de slicing - INICIO\n",
    "\n",
    "texto = 'Programador'\n",
    "\n",
    "print(texto)\n",
    "print('012345678910')\n",
    "\n",
    "print('\\n1-imprima do índice 2 até o final')\n",
    "print(texto[2:])\n",
    "\n",
    "print('2-imprima do índice 4 até o final')\n",
    "print(texto[4:])\n",
    "\n",
    "print('3-imprima do índice 7 até o final')\n",
    "print(texto[7:])\n",
    "\n",
    "print('3-imprima do índice 7 até o final')\n",
    "print(texto[7:])\n",
    "\n",
    "print('4-imprima do índice 1 até o final')\n",
    "print(texto[1:])\n",
    "\n",
    "print('5-imprima do índice 3 até o final')\n",
    "print(texto[3:])\n",
    "\n",
    "print('6-imprima do índice 6 até o final')\n",
    "print(texto[6:])\n",
    "\n",
    "print('7-imprima do índice 5 até o final')\n",
    "print(texto[5:])\n",
    "\n",
    "print('8-imprima do índice 9 até o final')\n",
    "print(texto[9:])\n",
    "\n",
    "print('9-imprima do índice 8 até o final')\n",
    "print(texto[8:])\n",
    "\n",
    "print('10-imprima do índice 10 até o final')\n",
    "print(texto[10:])\n"
   ]
  },
  {
   "cell_type": "code",
   "execution_count": 39,
   "id": "78e9d206-cfe1-4db3-a20a-34fe4aeaede4",
   "metadata": {},
   "outputs": [
    {
     "name": "stdout",
     "output_type": "stream",
     "text": [
      "Progrmador\n",
      "012345678910\n",
      "Progr\n",
      "Programa\n",
      "Programa\n",
      "Programador\n"
     ]
    }
   ],
   "source": [
    "#Slicing - FIM\n",
    "\n",
    "texto = 'Programador'\n",
    "\n",
    "print('Progrmador')\n",
    "print('012345678910')\n",
    "\n",
    "print(texto[:5])\n",
    "print(texto[:8])\n",
    "print(texto[:-3])\n",
    "print(texto[:])"
   ]
  },
  {
   "cell_type": "code",
   "execution_count": 40,
   "id": "d949a22e-a0e1-4101-aad9-2c3dc616e3f5",
   "metadata": {},
   "outputs": [
    {
     "name": "stdout",
     "output_type": "stream",
     "text": [
      "Programador\n",
      "012345678910\n",
      "1-Imprima do inicio até antes do índice 2\n",
      "Pr\n",
      "2-Imprima do inicio até antes do índice 4\n",
      "Prog\n",
      "3-Imprima do inicio até antes do índice 7\n",
      "Program\n",
      "4-Imprima do inicio até antes do índice 1\n",
      "P\n",
      "5-Imprima do inicio até antes do índice 3\n",
      "Pro\n",
      "6-Imprima do inicio até antes do índice 6\n",
      "Progra\n",
      "7-Imprima do inicio até antes do índice 5\n",
      "Progr\n",
      "8-Imprima do inicio até antes do índice 9\n",
      "Programad\n",
      "9-Imprima do inicio até antes do índice 8\n",
      "Programa\n",
      "10-Imprima do inicio até antes do índice 10\n",
      "Programado\n"
     ]
    }
   ],
   "source": [
    "#Exemplos de slicing - FIM\n",
    "\n",
    "texto = 'Programador'\n",
    "\n",
    "print(texto)\n",
    "print('012345678910')\n",
    "\n",
    "print('1-Imprima do inicio até antes do índice 2')\n",
    "print(texto[:2])\n",
    "\n",
    "print('2-Imprima do inicio até antes do índice 4')\n",
    "print(texto[:4])\n",
    "\n",
    "print('3-Imprima do inicio até antes do índice 7')\n",
    "print(texto[:7])\n",
    "\n",
    "print('4-Imprima do inicio até antes do índice 1')\n",
    "print(texto[:1])\n",
    "\n",
    "print('5-Imprima do inicio até antes do índice 3')\n",
    "print(texto[:3])\n",
    "\n",
    "print('6-Imprima do inicio até antes do índice 6')\n",
    "print(texto[:6])\n",
    "\n",
    "print('7-Imprima do inicio até antes do índice 5')\n",
    "print(texto[:5])\n",
    "\n",
    "print('8-Imprima do inicio até antes do índice 9')\n",
    "print(texto[:9])\n",
    "\n",
    "print('9-Imprima do inicio até antes do índice 8')\n",
    "print(texto[:8])\n",
    "\n",
    "print('10-Imprima do inicio até antes do índice 10')\n",
    "print(texto[:10])\n",
    "\n"
   ]
  },
  {
   "cell_type": "code",
   "execution_count": 41,
   "id": "40e65b15-b094-45f5-8c4a-7683be2714d0",
   "metadata": {},
   "outputs": [
    {
     "name": "stdout",
     "output_type": "stream",
     "text": [
      "Programador\n",
      "012345678910\n",
      "1-Imprima do índice 1 ao 5\n",
      "rogr\n",
      "2-Imprima do índice 2 ao 6\n",
      "ogra\n",
      "3-Imprima do índice 0 ao 4\n",
      "Prog\n",
      "4-Imprima do índice 3 ao 8\n",
      "grama\n",
      "5-Imprima do índice 5 ao 9\n",
      "amad\n",
      "6-Imprima do índice 4 ao 10\n",
      "ramado\n",
      "7-Imprima do índice 2 ao 7\n",
      "ogram\n",
      "8-Imprima do índice 6 ao 11\n",
      "amador\n",
      "9-Imprima do índice 1 ao 3\n",
      "rog\n",
      "10-Imprima do índice 0 ao 6\n",
      "Program\n"
     ]
    }
   ],
   "source": [
    "#Slicing - INICIO E FIM\n",
    "\n",
    "texto = 'Programador'\n",
    "\n",
    "print(texto)\n",
    "print('012345678910')\n",
    "\n",
    "print('1-Imprima do índice 1 ao 5')\n",
    "print(texto[1:5])\n",
    "\n",
    "print('2-Imprima do índice 2 ao 6')\n",
    "print(texto[2:6])\n",
    "\n",
    "print('3-Imprima do índice 0 ao 4')\n",
    "print(texto[0:4])\n",
    "\n",
    "print('4-Imprima do índice 3 ao 8')\n",
    "print(texto[3:8])\n",
    "\n",
    "print('5-Imprima do índice 5 ao 9')\n",
    "print(texto[5:9])\n",
    "\n",
    "\n",
    "print('6-Imprima do índice 4 ao 10')\n",
    "print(texto[4:10])\n",
    "\n",
    "print('7-Imprima do índice 2 ao 7')\n",
    "print(texto[2:-4])\n",
    "\n",
    "print('8-Imprima do índice 6 ao 11')\n",
    "print(texto[-6:11])\n",
    "\n",
    "print('9-Imprima do índice 1 ao 3')\n",
    "print(texto[1:-7])\n",
    "\n",
    "print('10-Imprima do índice 0 ao 6')\n",
    "print(texto[0:-4])"
   ]
  },
  {
   "cell_type": "code",
   "execution_count": 42,
   "id": "cc639fc5-8849-46c3-8646-fce6952fed48",
   "metadata": {},
   "outputs": [
    {
     "name": "stdout",
     "output_type": "stream",
     "text": [
      "Programador\n",
      "012345678910\n",
      "1-Imprima com passo 2\n",
      "Pormdr\n",
      "2-Imprima com passo 4\n",
      "Prd\n",
      "3-Imprima com passo 5\n",
      "Par\n",
      "4-Imprima com passo 6\n",
      "Pm\n",
      "5-Imprima com passo 7\n",
      "Pa\n",
      "6-Imprima com passo 8\n",
      "Pd\n",
      "6-Imprima com passo -1\n",
      "rodamargorP\n",
      "6-Imprima com passo -2\n",
      "rdmroP\n",
      "6-Imprima com passo -3\n",
      "rarr\n"
     ]
    }
   ],
   "source": [
    "#Slice PASSO\n",
    "\n",
    "texto = 'Programador'\n",
    "\n",
    "print(texto)\n",
    "print('012345678910')\n",
    "\n",
    "print('1-Imprima com passo 2')\n",
    "print(texto[::2])\n",
    "\n",
    "print('2-Imprima com passo 4')\n",
    "print(texto[::4])\n",
    "\n",
    "print('3-Imprima com passo 5')\n",
    "print(texto[::5])\n",
    "\n",
    "print('4-Imprima com passo 6')\n",
    "print(texto[::6])\n",
    "\n",
    "\n",
    "print('5-Imprima com passo 7')\n",
    "print(texto[::7])\n",
    "\n",
    "print('6-Imprima com passo 8')\n",
    "print(texto[::8])\n",
    "\n",
    "print('6-Imprima com passo -1')\n",
    "print(texto[::-1])\n",
    "\n",
    "print('6-Imprima com passo -2')\n",
    "print(texto[::-2])\n",
    "\n",
    "\n",
    "print('6-Imprima com passo -3')\n",
    "print(texto[::-3])\n",
    "\n"
   ]
  },
  {
   "cell_type": "code",
   "execution_count": 44,
   "id": "ef0860b0-e7b7-414a-a3a2-c02e2a42d1cb",
   "metadata": {},
   "outputs": [
    {
     "name": "stdout",
     "output_type": "stream",
     "text": [
      "Programador\n",
      "012345678910\n",
      "Programador\n",
      "ramador\n",
      "Programado\n",
      "ormd\n",
      "rra\n",
      "rodamargor\n",
      "oaagr\n"
     ]
    }
   ],
   "source": [
    "#Slice INICIO, FIM, PASSO\n",
    "\n",
    "texto = 'Programador'\n",
    "\n",
    "print(texto)\n",
    "print('012345678910')\n",
    "\n",
    "#Ex:\n",
    "\n",
    "print(texto[0:11:1])\n",
    "print(texto[4:11:1])\n",
    "print(texto[0:-1:1])\n",
    "print(texto[2:9:2])\n",
    "print(texto[1:-1:3])\n",
    "print(texto[10:0:-1])\n",
    "print(texto[-2:0:-2])\n"
   ]
  },
  {
   "cell_type": "code",
   "execution_count": 68,
   "id": "f6dd8910-96bf-4e40-a8d3-4753ea4f0f87",
   "metadata": {},
   "outputs": [
    {
     "name": "stdout",
     "output_type": "stream",
     "text": [
      "Programador\n",
      "012345678910\n",
      "1-Imprimir do índice 1 ao 8, pulando 2\n",
      "rgaa\n",
      "2-Imprimir do índice 2 ao 9, pulando 3\n",
      "oad\n",
      "3-Imprimir do índice 3 ao 7, pulando 2\n",
      "ga\n",
      "4-Imprimir do índice 0 ao 6, pulando 2\n",
      "Por\n",
      "5-Imprimir do índice 4 ao 10, pulando 2\n",
      "rmd\n",
      "6-Imprimir do índice 1 ao 9, pulando 4\n",
      "ra\n",
      "7-Imprimir do índice 3 ao 8, pulando 3\n",
      "gm\n",
      "8-Imprimir do índice 0 ao 11, pulando 3\n",
      "Pgmo\n",
      "9-Imprimir do índice 5 ao 1, pulando -1\n",
      "argor\n",
      "10-Imprimir do índice 10 ao 2, pulando -2\n",
      "rdmro\n",
      "11-Imprimir do índice 7 ao 5, pulando -1\n",
      "ama\n"
     ]
    }
   ],
   "source": [
    "#Excercicios de SLICING INICIO,FIM,PASSO\n",
    "\n",
    "texto = 'Programador'\n",
    "\n",
    "print(texto)\n",
    "print('012345678910')\n",
    "\n",
    "print('1-Imprimir do índice 1 ao 8, pulando 2')\n",
    "print(texto[1:8:2])\n",
    "\n",
    "print('2-Imprimir do índice 2 ao 9, pulando 3')\n",
    "print(texto[2:9:3])\n",
    "\n",
    "print('3-Imprimir do índice 3 ao 7, pulando 2')\n",
    "print(texto[3:7:2])\n",
    "\n",
    "print('4-Imprimir do índice 0 ao 6, pulando 2')\n",
    "print(texto[0:5:2])\n",
    "\n",
    "print('5-Imprimir do índice 4 ao 10, pulando 2')\n",
    "print(texto[4:10:2])\n",
    "\n",
    "print('6-Imprimir do índice 1 ao 9, pulando 4')\n",
    "print(texto[1:9:4])\n",
    "\n",
    "print('7-Imprimir do índice 3 ao 8, pulando 3')\n",
    "print(texto[3:8:3])\n",
    "\n",
    "\n",
    "print('8-Imprimir do índice 0 ao 11, pulando 3')\n",
    "print(texto[0:11:3])\n",
    "\n",
    "print('9-Imprimir do índice 5 ao 1, pulando -1')\n",
    "print(texto[-6:0:-1])\n",
    "\n",
    "print('10-Imprimir do índice 10 ao 2, pulando -2')\n",
    "print(texto[-1:1:-2])\n",
    "\n",
    "print('11-Imprimir do índice 7 ao 5, pulando -1')\n",
    "print(texto[-4:4:-1])\n"
   ]
  },
  {
   "cell_type": "code",
   "execution_count": 69,
   "id": "3038afed-61db-403c-93b7-a92693183181",
   "metadata": {},
   "outputs": [
    {
     "name": "stdin",
     "output_type": "stream",
     "text": [
      "Digite um palavra cachorro\n"
     ]
    },
    {
     "name": "stdout",
     "output_type": "stream",
     "text": [
      "ccor\n"
     ]
    }
   ],
   "source": [
    "#Exercicio prático 1\n",
    "#Peça ao usuário para digitar uma palavra e exiba os caracteres nas posições pares\n",
    "\n",
    "#resposta\n",
    "texto = input ('Digite um palavra')\n",
    "print(texto[::2])"
   ]
  },
  {
   "cell_type": "code",
   "execution_count": 71,
   "id": "6266bee3-4326-4aa5-8896-d404fada7f35",
   "metadata": {},
   "outputs": [
    {
     "name": "stdin",
     "output_type": "stream",
     "text": [
      "Digite uma frase Mariana conta um\n"
     ]
    },
    {
     "name": "stdout",
     "output_type": "stream",
     "text": [
      "m to nia\n"
     ]
    }
   ],
   "source": [
    "#Exercicio prático 2\n",
    "\n",
    "#Peça ao usuário uma frase e mostre-a invertida, pulando de 2 em 2.\n",
    "\n",
    "texto = input ('Digite uma frase')\n",
    "print(texto[::-2])"
   ]
  },
  {
   "cell_type": "code",
   "execution_count": 78,
   "id": "9f98b5e6-774a-4388-a54d-670c65f87a06",
   "metadata": {},
   "outputs": [
    {
     "name": "stdin",
     "output_type": "stream",
     "text": [
      "Digite uma palavra Constantinopla\n"
     ]
    },
    {
     "name": "stdout",
     "output_type": "stream",
     "text": [
      "alpon\n"
     ]
    }
   ],
   "source": [
    "#Exercicio prático 3\n",
    "\n",
    "#Solicite ao usuário uma palavra e exiba apenas os últimos 5 caracteres, invertido.\n",
    "texto = input ('Digite uma palavra')\n",
    "print(texto[-1:-6:-1])"
   ]
  },
  {
   "cell_type": "code",
   "execution_count": 79,
   "id": "0cbd6da2-7563-42a2-a145-99ab84169a9c",
   "metadata": {},
   "outputs": [
    {
     "name": "stdin",
     "output_type": "stream",
     "text": [
      "Digite uma palavra paralelepipedo\n"
     ]
    },
    {
     "name": "stdout",
     "output_type": "stream",
     "text": [
      "prl\n"
     ]
    }
   ],
   "source": [
    "#Exercicio prático 4\n",
    "\n",
    "#Leia uma string do usuário e mostre os primeiros 6 caracteres pulando de 2 em 2\n",
    "\n",
    "texto = input ('Digite uma palavra')\n",
    "print(texto[:7:2])\n"
   ]
  },
  {
   "cell_type": "code",
   "execution_count": null,
   "id": "38dde919-3598-4df1-981f-41d0f5e292c4",
   "metadata": {},
   "outputs": [],
   "source": [
    "#Exercicio prático 5\n",
    "\n",
    "#Peça ao usuário para digitar um texto e exiba apenas os caracteres entre os índices 2 e 10, pulando de 3 em 3\n",
    "\n",
    "texto = input ('Digite uma frase')\n",
    "print(texto)\n",
    "print(texto[2:10:3])"
   ]
  },
  {
   "cell_type": "code",
   "execution_count": null,
   "id": "b0d42905-2614-4614-b8ac-5cf7f808c13d",
   "metadata": {},
   "outputs": [],
   "source": [
    "\n",
    "\n",
    "#Leia uma frase do usuário e mostre todos os caracteres, menos os 2 primeiros e os 2 últimos\n"
   ]
  },
  {
   "cell_type": "code",
   "execution_count": null,
   "id": "6dac7fcc-5511-4b12-aae6-24bf5081f98f",
   "metadata": {},
   "outputs": [],
   "source": [
    "#LISTAS\n"
   ]
  },
  {
   "cell_type": "code",
   "execution_count": 15,
   "id": "f331e004-f56f-43c9-9c4d-03b9ac97686c",
   "metadata": {},
   "outputs": [
    {
     "name": "stdout",
     "output_type": "stream",
     "text": [
      "['maçã', 'banana', 'laranja']\n",
      "maçã\n",
      "['maçã', 'uva', 'laranja']\n",
      "['maçã', 'uva', 'laranja', 'manga']\n",
      "['maçã', 'uva', 'manga']\n"
     ]
    }
   ],
   "source": [
    "# Criando uma lista\n",
    "\n",
    "frutas = ['maçã', 'banana', 'laranja']\n",
    "print(frutas)\n",
    "print(frutas[0])\n",
    "\n",
    "\n",
    "# Modificando por index\n",
    "frutas [1] = 'uva'\n",
    "print(frutas)\n",
    "\n",
    "#Adionando a lista\n",
    "frutas.append('manga')\n",
    "print(frutas)\n",
    "\n",
    "# Removendo da lista\n",
    "frutas.remove('laranja')\n",
    "print(frutas)\n",
    "\n"
   ]
  },
  {
   "cell_type": "code",
   "execution_count": 16,
   "id": "7be485e3-2bf4-4daf-9c98-7237c4e26d27",
   "metadata": {},
   "outputs": [
    {
     "name": "stdout",
     "output_type": "stream",
     "text": [
      "[1, 2, 3, 4, 5]\n"
     ]
    }
   ],
   "source": [
    "#Exercicios LISTA\n",
    "\n",
    "# 01- Crie uma lista com 5 números inteiros e imprima-a\n",
    "\n",
    "numeros = [1,2,3,4,5]\n",
    "print(numeros)"
   ]
  },
  {
   "cell_type": "code",
   "execution_count": 17,
   "id": "f13c7159-76c4-4f4c-bcdf-22d29aab4899",
   "metadata": {},
   "outputs": [
    {
     "name": "stdout",
     "output_type": "stream",
     "text": [
      "[1, 2, 3, 4, 5, 10]\n"
     ]
    }
   ],
   "source": [
    "# 02 - Adicione o número 10 ao final de uma lista existente\n",
    "\n",
    "numeros = [1,2,3,4,5]\n",
    "numeros.append(10)\n",
    "print(numeros)"
   ]
  },
  {
   "cell_type": "code",
   "execution_count": 18,
   "id": "fbf73177-a3bb-468c-9093-0e741e612477",
   "metadata": {},
   "outputs": [
    {
     "name": "stdout",
     "output_type": "stream",
     "text": [
      "[2, 3, 4, 5]\n"
     ]
    }
   ],
   "source": [
    "# 03 - Remova o primeiro elemento de uma lista\n",
    "numeros = [1,2,3,4,5]\n",
    "numeros.remove(1)\n",
    "print(numeros)\n"
   ]
  },
  {
   "cell_type": "code",
   "execution_count": 19,
   "id": "fbeb3e85-a6ae-4687-b893-5d153cb72d01",
   "metadata": {},
   "outputs": [
    {
     "name": "stdout",
     "output_type": "stream",
     "text": [
      "[1, 2, 3, 4, 5]\n"
     ]
    }
   ],
   "source": [
    "#04 Ordene uma lista em ordem crescente\n",
    "numeros = [5,4,3,1,2]\n",
    "numeros.sort()\n",
    "print(numeros)"
   ]
  },
  {
   "cell_type": "code",
   "execution_count": 20,
   "id": "315882a9-8610-43e0-b3d6-44879bff628d",
   "metadata": {},
   "outputs": [
    {
     "name": "stdout",
     "output_type": "stream",
     "text": [
      "laranja\n"
     ]
    }
   ],
   "source": [
    "#05 Crie uma lista de strings com nomes de 3 frutas e imprima apenas a segunda\n",
    "\n",
    "frutas = ['uva','laranja','maçã']\n",
    "print(frutas[1])"
   ]
  },
  {
   "cell_type": "code",
   "execution_count": 23,
   "id": "60a5c9cd-1fa1-4c70-b1f2-f7c8fb09d1f9",
   "metadata": {},
   "outputs": [
    {
     "data": {
      "text/plain": [
       "15"
      ]
     },
     "execution_count": 23,
     "metadata": {},
     "output_type": "execute_result"
    }
   ],
   "source": [
    "#06 Some todos os números de um lista de números\n",
    "numeros = [1,2,3,4,5]\n",
    "sum(numeros)\n"
   ]
  },
  {
   "cell_type": "code",
   "execution_count": null,
   "id": "ebbe63b8-9caf-403f-a399-795547b46b28",
   "metadata": {},
   "outputs": [],
   "source": [
    "# TUPLAS\n",
    "\n"
   ]
  },
  {
   "cell_type": "code",
   "execution_count": 27,
   "id": "3bc328c1-8719-4796-a8f6-34cee5de29d4",
   "metadata": {},
   "outputs": [
    {
     "name": "stdout",
     "output_type": "stream",
     "text": [
      "('test', 2, 2.5)\n"
     ]
    }
   ],
   "source": [
    "# Exemplo de tupla\n",
    "tupla = ('test', 2, 2.5)\n",
    "print(tupla)\n",
    "print(type(tupla_num))\n"
   ]
  },
  {
   "cell_type": "code",
   "execution_count": null,
   "id": "8fcfbef2-2f2d-490b-8de1-5c7d85d46afc",
   "metadata": {},
   "outputs": [],
   "source": [
    "# Manipulando tupla\n",
    "\n",
    "#count()\n",
    "#index()\n",
    "\n"
   ]
  },
  {
   "cell_type": "code",
   "execution_count": 38,
   "id": "e8cd216e-04cd-4000-aa20-597fe6f8c72e",
   "metadata": {},
   "outputs": [
    {
     "name": "stdout",
     "output_type": "stream",
     "text": [
      "(2, 5, 7)\n",
      "<class 'tuple'>\n"
     ]
    }
   ],
   "source": [
    "# EXERCICIOS TUPLAS\n",
    "\n",
    "# 01- Crie uma tupla com 3 números e imprima-a\n",
    "tupla_num = (2,5,7)\n",
    "print(tupla_num)\n",
    "\n"
   ]
  },
  {
   "cell_type": "code",
   "execution_count": 35,
   "id": "b5fb6501-1185-4ade-a689-f47edbbfb4f2",
   "metadata": {},
   "outputs": [
    {
     "name": "stdout",
     "output_type": "stream",
     "text": [
      "5\n"
     ]
    }
   ],
   "source": [
    "# 02 - Acesse o segundo elemento da tupla\n",
    "tupla_num = (2,5,7)\n",
    "print(tupla_num[1)\n"
   ]
  },
  {
   "cell_type": "code",
   "execution_count": 44,
   "id": "ac172319-18dd-4f8c-a909-b16cfc2d1108",
   "metadata": {},
   "outputs": [
    {
     "name": "stdout",
     "output_type": "stream",
     "text": [
      "((1, 2), (3, 4), (5, 6))\n",
      "3\n",
      "6\n"
     ]
    }
   ],
   "source": [
    "#04 - Crie uma tupla aninhada e acesse um elemento interno\n",
    "\n",
    "tupla = ((1,2),(3,4),(5,6))\n",
    "print(tupla)\n",
    "print(tupla[1][0])\n",
    "print(tupla[2][1])\n"
   ]
  },
  {
   "cell_type": "code",
   "execution_count": 70,
   "id": "e0e78a9e-c899-4d6b-aacd-403bf793c281",
   "metadata": {},
   "outputs": [
    {
     "name": "stdout",
     "output_type": "stream",
     "text": [
      "O número existe na tupla: True\n",
      "O número existe na tupla: True\n"
     ]
    }
   ],
   "source": [
    "#6 Verifique se um elemento existe em uma tupla\n",
    "tupla_num = (2,5,7,2)\n",
    "\n",
    "num = tupla_num.count(2)\n",
    "print('O número existe na tupla:',num>0)\n",
    "\n",
    "# Ou\n",
    "\n",
    "print ('O número existe na tupla:', 5 in tupla_num)\n"
   ]
  },
  {
   "cell_type": "code",
   "execution_count": 73,
   "id": "c3c6a4a4-cd0e-463c-a12e-f12ebec9df7d",
   "metadata": {},
   "outputs": [
    {
     "data": {
      "text/plain": [
       "2"
      ]
     },
     "execution_count": 73,
     "metadata": {},
     "output_type": "execute_result"
    }
   ],
   "source": [
    "# 07 - Conte quantas vezes um elemento aparece em um tupla\n",
    "tupla_num = (2,5,7,2,3,2,7)\n",
    "tupla_num.count(7)"
   ]
  },
  {
   "cell_type": "code",
   "execution_count": 80,
   "id": "0d607da7-1dcf-46e7-8e5e-a04560279ef8",
   "metadata": {},
   "outputs": [
    {
     "name": "stdout",
     "output_type": "stream",
     "text": [
      "5\n"
     ]
    }
   ],
   "source": [
    "# 08 Obtenha o comprimento de uma tupla\n",
    "tupla = (1, 2, 3 ,4 ,5)\n",
    "print(len(tupla))"
   ]
  },
  {
   "cell_type": "code",
   "execution_count": 101,
   "id": "9976fd83-06b6-4102-b3ed-107dc9da4cfa",
   "metadata": {},
   "outputs": [
    {
     "name": "stdout",
     "output_type": "stream",
     "text": [
      "[1, 2, 3, 4, 5]\n",
      "5\n",
      "([1, 2, 3, 4, 5],)\n",
      "(1, 2, 3, 4, 5)\n"
     ]
    }
   ],
   "source": [
    "#09 converta uma lista em tupla \n",
    "lista = [1,2,3,4,5]\n",
    "\n",
    "print(lista)\n",
    "print(len(lista))\n",
    "tupla = tuple([lista])\n",
    "tupla2 = (lista[0], lista[1], lista[2], lista[3], lista[4])\n",
    "\n",
    "print(tupla)\n",
    "print(tupla2)\n"
   ]
  },
  {
   "cell_type": "code",
   "execution_count": null,
   "id": "36d4116e-4320-44f7-8fa1-951c91da678b",
   "metadata": {},
   "outputs": [],
   "source": []
  },
  {
   "cell_type": "code",
   "execution_count": null,
   "id": "04e078cb-086b-4e92-973e-946bf08220c1",
   "metadata": {},
   "outputs": [],
   "source": [
    "#DICIONARIO\n",
    "\n"
   ]
  },
  {
   "cell_type": "code",
   "execution_count": 102,
   "id": "f0afc9d7-f0fc-4349-86fb-6edbc96223a8",
   "metadata": {},
   "outputs": [
    {
     "name": "stdout",
     "output_type": "stream",
     "text": [
      "{'nome': 'Ana', 'idade': 25, 'cidade': 'São Paulo'}\n"
     ]
    }
   ],
   "source": [
    "# Criando um dicionário\n",
    "\n",
    "meu_dicionario = {'nome': 'Ana',\n",
    "                  'idade': 25,\n",
    "                  'cidade': 'São Paulo'\n",
    "                 }\n",
    "print(meu_dicionario)"
   ]
  },
  {
   "cell_type": "code",
   "execution_count": null,
   "id": "5c7265cf-2483-405a-8eb4-4797b38a6c23",
   "metadata": {},
   "outputs": [],
   "source": [
    "# Exercicios de DICIONARIOS\n"
   ]
  },
  {
   "cell_type": "code",
   "execution_count": 104,
   "id": "ad5e083f-4592-41ff-aebc-af820aea10f8",
   "metadata": {},
   "outputs": [
    {
     "name": "stdout",
     "output_type": "stream",
     "text": [
      "{'marca': 'Fiat', 'modelo': 'Uno', 'ano': 2012}\n"
     ]
    }
   ],
   "source": [
    "# 01 - Crie um dicionário com 3 pares chave:valor e imprima-o\n",
    "\n",
    "dicionario_veiculo = {\n",
    "        'marca': 'Fiat',\n",
    "        'modelo': 'Uno',\n",
    "        'ano': 2012\n",
    "}\n",
    "\n",
    "print(dicionario_veiculo)"
   ]
  },
  {
   "cell_type": "code",
   "execution_count": 107,
   "id": "5394be42-724c-4250-be91-1ec58db9cb98",
   "metadata": {},
   "outputs": [
    {
     "name": "stdout",
     "output_type": "stream",
     "text": [
      "Fiat\n",
      "2012\n"
     ]
    }
   ],
   "source": [
    "# 02 - Acesse o valor associoado a uma chave específica\n",
    "\n",
    "dicionario_veiculo = {\n",
    "        'marca': 'Fiat',\n",
    "        'modelo': 'Uno',\n",
    "        'ano': 2012\n",
    "}\n",
    "\n",
    "print(dicionario_veiculo.get('marca'))\n",
    "print(dicionario_veiculo.get('ano'))\n"
   ]
  },
  {
   "cell_type": "code",
   "execution_count": null,
   "id": "e9870a08-c976-4f92-a9b8-bb93ec8fede2",
   "metadata": {},
   "outputs": [],
   "source": []
  }
 ],
 "metadata": {
  "kernelspec": {
   "display_name": "Python 3 (ipykernel)",
   "language": "python",
   "name": "python3"
  },
  "language_info": {
   "codemirror_mode": {
    "name": "ipython",
    "version": 3
   },
   "file_extension": ".py",
   "mimetype": "text/x-python",
   "name": "python",
   "nbconvert_exporter": "python",
   "pygments_lexer": "ipython3",
   "version": "3.12.7"
  }
 },
 "nbformat": 4,
 "nbformat_minor": 5
}
