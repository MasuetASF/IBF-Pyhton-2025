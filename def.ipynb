{
 "cells": [
  {
   "cell_type": "code",
   "execution_count": 11,
   "id": "174413be-417a-4f38-aae6-1e88535c4367",
   "metadata": {},
   "outputs": [
    {
     "name": "stdin",
     "output_type": "stream",
     "text": [
      "Digite sia idade 1\n"
     ]
    },
    {
     "name": "stdout",
     "output_type": "stream",
     "text": [
      "Sua idade é válida\n"
     ]
    }
   ],
   "source": [
    "def validar_idade(idade_str):\n",
    "    try:\n",
    "        idade = int(idade_str)\n",
    "        if idade >= 0:\n",
    "            return True\n",
    "        else:\n",
    "            return False\n",
    "    except:\n",
    "        print('Digite uma idade válida')\n",
    "        return False\n",
    "#Execução principal\n",
    "\n",
    "resultado = False\n",
    "while not resultado: \n",
    "    entrada = input('Digite sua idade')\n",
    "    resultado = validar_idade(entrada)\n",
    "    if resultado:\n",
    "        print('Sua idade é válida')\n",
    "    else:\n",
    "        print('Idade inválida')\n",
    "    "
   ]
  },
  {
   "cell_type": "code",
   "execution_count": 14,
   "id": "9f361416-eacd-49ac-9c3b-db0e77776b84",
   "metadata": {},
   "outputs": [
    {
     "name": "stdin",
     "output_type": "stream",
     "text": [
      "Digite seu primeiro nome \n"
     ]
    },
    {
     "name": "stdout",
     "output_type": "stream",
     "text": [
      "0\n"
     ]
    }
   ],
   "source": [
    "def printar(entrada):\n",
    "    return len(entrada)\n",
    "\n",
    "nome = input('Digite seu primeiro nome')\n",
    "print(printar(nome))"
   ]
  },
  {
   "cell_type": "code",
   "execution_count": 57,
   "id": "b97a9238-0e0c-4418-9044-08bbc484045f",
   "metadata": {},
   "outputs": [
    {
     "name": "stdin",
     "output_type": "stream",
     "text": [
      "Digite sua idade 1\n"
     ]
    },
    {
     "name": "stdout",
     "output_type": "stream",
     "text": [
      "(1, True)\n",
      "Idade válida: 1 anos\n"
     ]
    }
   ],
   "source": [
    "def validar_idade(idade_str):\n",
    "    try:\n",
    "        idade = int(idade_str)\n",
    "        if idade >= 0:\n",
    "            return idade, True\n",
    "        else:\n",
    "            return None, False\n",
    "    except ValueError:\n",
    "        return None, False\n",
    "\n",
    "#Uso da Função\n",
    "sucesso = False\n",
    "while su:\n",
    "    entrada = input('Digite sua idade')\n",
    "    idade_valida, sucesso = validar_idade(entrada)\n",
    "    print(validar_idade(entrada))\n",
    "    \n",
    "    if sucesso:\n",
    "        print(f'Idade válida: {idade_valida} anos')\n",
    "    else:\n",
    "        print('Idade inválida')YYYY"
   ]
  },
  {
   "cell_type": "markdown",
   "id": "23f7530e-f13e-443d-8879-a144e3c0420c",
   "metadata": {},
   "source": [
    "# Jogo da forca\n",
    "\n",
    "palavra_chave = 'PYTHON'\n",
    "chances = 5\n",
    "display = ['_','_','_','_','_','_']\n",
    "acertos = 0\n",
    "\n",
    "def subistituir_letra(letra):\n",
    "    i=0\n",
    "    for f in palavra_chave: \n",
    "        if f == letra:\n",
    "            display[i] = letra\n",
    "        i = i + 1\n",
    "    print(display)\n",
    "\n",
    "def testar_letra(letra):\n",
    "    if letra in palavra_chave:\n",
    "        subistituir_letra(letra)\n",
    "        acertos += 1\n",
    "        return True\n",
    "    else:\n",
    "        global chances\n",
    "        chances = chances - 1\n",
    "        print(display)\n",
    "        return False\n",
    "\n",
    "while chances > 0:\n",
    "    tentativa = input('Digite uma letra').upper()\n",
    "    resultado = testar_letra(tentativa)\n",
    "    \n",
    "    print(resultado)\n",
    "    print(chances)\n",
    "    "
   ]
  },
  {
   "cell_type": "code",
   "execution_count": 113,
   "id": "39556906-714c-4d48-9c79-1a4dbc9785bf",
   "metadata": {},
   "outputs": [
    {
     "ename": "NameError",
     "evalue": "name 'criar_display' is not defined",
     "output_type": "error",
     "traceback": [
      "\u001b[1;31m---------------------------------------------------------------------------\u001b[0m",
      "\u001b[1;31mNameError\u001b[0m                                 Traceback (most recent call last)",
      "Cell \u001b[1;32mIn[113], line 5\u001b[0m\n\u001b[0;32m      3\u001b[0m palavra_chave \u001b[38;5;241m=\u001b[39m \u001b[38;5;124m'\u001b[39m\u001b[38;5;124mPYTHON\u001b[39m\u001b[38;5;124m'\u001b[39m\n\u001b[0;32m      4\u001b[0m chances \u001b[38;5;241m=\u001b[39m \u001b[38;5;241m5\u001b[39m\n\u001b[1;32m----> 5\u001b[0m display \u001b[38;5;241m=\u001b[39m criar_display(palavra_chave)\n\u001b[0;32m      6\u001b[0m acertos \u001b[38;5;241m=\u001b[39m \u001b[38;5;241m0\u001b[39m\n\u001b[0;32m      9\u001b[0m \u001b[38;5;28;01mdef\u001b[39;00m \u001b[38;5;21mcriar_display\u001b[39m(palavra_chave):\n",
      "\u001b[1;31mNameError\u001b[0m: name 'criar_display' is not defined"
     ]
    }
   ],
   "source": [
    "# Jogo da forca\n",
    "\n",
    "palavra_chave = 'PYTHON'\n",
    "chances = 5\n",
    "display = criar_display(palavra_chave)\n",
    "acertos = 0\n",
    "\n",
    "\n",
    "def criar_display(palavra_chave):\n",
    "    i=0\n",
    "    while i < len(palavra_chave):\n",
    "        display.append('_')\n",
    "        i+=1\n",
    "\n",
    "\n",
    "def subistituir_letra(letra):\n",
    "    i=0\n",
    "    for f in palavra_chave: \n",
    "        if f == letra:\n",
    "            display[i] = letra\n",
    "        i = i + 1\n",
    "    print(display)\n",
    "\n",
    "def testar_letra(letra):\n",
    "    if letra in palavra_chave:\n",
    "        subistituir_letra(letra)\n",
    "        global acertos\n",
    "        acertos += 1\n",
    "        return True\n",
    "    else:\n",
    "        global chances\n",
    "        chances = chances - 1\n",
    "        print(display)\n",
    "        return False\n",
    "\n",
    "while chances > 0 and '_' in display:\n",
    "    tentativa = input('Digite uma letra').upper()\n",
    "    resultado = testar_letra(tentativa)\n",
    "    \n",
    "    print(resultado)\n",
    "    print(chances)"
   ]
  },
  {
   "cell_type": "code",
   "execution_count": 109,
   "id": "8acaf254-2673-4530-b13b-33d2d0a3ec8b",
   "metadata": {},
   "outputs": [
    {
     "name": "stdout",
     "output_type": "stream",
     "text": [
      "['_', '_', '_', '_', '_', '_']\n"
     ]
    }
   ],
   "source": [
    "palavra_chave = 'PYTHON'\n",
    "chances = 5\n",
    "\n",
    "display = []\n",
    "i=0\n",
    "while i < len(palavra_chave):\n",
    "    display.append('_')\n",
    "    i+=1\n",
    "\n",
    "print(display)\n"
   ]
  },
  {
   "cell_type": "code",
   "execution_count": 114,
   "id": "6e62ae2f-87af-472a-9953-d4548f711def",
   "metadata": {},
   "outputs": [
    {
     "ename": "NameError",
     "evalue": "name 'criar_display' is not defined",
     "output_type": "error",
     "traceback": [
      "\u001b[1;31m---------------------------------------------------------------------------\u001b[0m",
      "\u001b[1;31mNameError\u001b[0m                                 Traceback (most recent call last)",
      "Cell \u001b[1;32mIn[114], line 3\u001b[0m\n\u001b[0;32m      1\u001b[0m palavra_chave \u001b[38;5;241m=\u001b[39m \u001b[38;5;124m'\u001b[39m\u001b[38;5;124mPYTHON\u001b[39m\u001b[38;5;124m'\u001b[39m\n\u001b[0;32m      2\u001b[0m chances \u001b[38;5;241m=\u001b[39m \u001b[38;5;241m5\u001b[39m\n\u001b[1;32m----> 3\u001b[0m display \u001b[38;5;241m=\u001b[39m criar_display(palavra_chave)\n\u001b[0;32m      4\u001b[0m acertos \u001b[38;5;241m=\u001b[39m \u001b[38;5;241m0\u001b[39m\n\u001b[0;32m      7\u001b[0m \u001b[38;5;28;01mdef\u001b[39;00m \u001b[38;5;21mcriar_display\u001b[39m(palavra_chave):\n",
      "\u001b[1;31mNameError\u001b[0m: name 'criar_display' is not defined"
     ]
    }
   ],
   "source": [
    "palavra_chave = 'PYTHON'\n",
    "chances = 5\n",
    "display = criar_display(palavra_chave)\n",
    "acertos = 0\n",
    "\n",
    "def criar_display(palavra_chave):\n",
    "    i=0\n",
    "    while i < len(palavra_chave):\n",
    "        display.append('_')\n",
    "        i+=1\n",
    "\n"
   ]
  },
  {
   "cell_type": "code",
   "execution_count": null,
   "id": "2e2b4ed7-5285-4611-ad43-a7a4eab82738",
   "metadata": {},
   "outputs": [],
   "source": []
  }
 ],
 "metadata": {
  "kernelspec": {
   "display_name": "Python 3 (ipykernel)",
   "language": "python",
   "name": "python3"
  },
  "language_info": {
   "codemirror_mode": {
    "name": "ipython",
    "version": 3
   },
   "file_extension": ".py",
   "mimetype": "text/x-python",
   "name": "python",
   "nbconvert_exporter": "python",
   "pygments_lexer": "ipython3",
   "version": "3.12.7"
  }
 },
 "nbformat": 4,
 "nbformat_minor": 5
}
