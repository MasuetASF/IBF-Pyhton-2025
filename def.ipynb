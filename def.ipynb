{
 "cells": [
  {
   "cell_type": "code",
   "execution_count": 11,
   "id": "174413be-417a-4f38-aae6-1e88535c4367",
   "metadata": {},
   "outputs": [
    {
     "name": "stdin",
     "output_type": "stream",
     "text": [
      "Digite sia idade 1\n"
     ]
    },
    {
     "name": "stdout",
     "output_type": "stream",
     "text": [
      "Sua idade é válida\n"
     ]
    }
   ],
   "source": [
    "def validar_idade(idade_str):\n",
    "    try:\n",
    "        idade = int(idade_str)\n",
    "        if idade >= 0:\n",
    "            return True\n",
    "        else:\n",
    "            return False\n",
    "    except:\n",
    "        print('Digite uma idade válida')\n",
    "        return False\n",
    "#Execução principal\n",
    "\n",
    "resultado = False\n",
    "while not resultado: \n",
    "    entrada = input('Digite sua idade')\n",
    "    resultado = validar_idade(entrada)\n",
    "    if resultado:\n",
    "        print('Sua idade é válida')\n",
    "    else:\n",
    "        print('Idade inválida')\n",
    "    "
   ]
  },
  {
   "cell_type": "code",
   "execution_count": 14,
   "id": "9f361416-eacd-49ac-9c3b-db0e77776b84",
   "metadata": {},
   "outputs": [
    {
     "name": "stdin",
     "output_type": "stream",
     "text": [
      "Digite seu primeiro nome \n"
     ]
    },
    {
     "name": "stdout",
     "output_type": "stream",
     "text": [
      "0\n"
     ]
    }
   ],
   "source": [
    "def printar(entrada):\n",
    "    return len(entrada)\n",
    "\n",
    "nome = input('Digite seu primeiro nome')\n",
    "print(printar(nome))"
   ]
  },
  {
   "cell_type": "code",
   "execution_count": 57,
   "id": "b97a9238-0e0c-4418-9044-08bbc484045f",
   "metadata": {},
   "outputs": [
    {
     "name": "stdin",
     "output_type": "stream",
     "text": [
      "Digite sua idade 1\n"
     ]
    },
    {
     "name": "stdout",
     "output_type": "stream",
     "text": [
      "(1, True)\n",
      "Idade válida: 1 anos\n"
     ]
    }
   ],
   "source": [
    "def validar_idade(idade_str):\n",
    "    try:\n",
    "        idade = int(idade_str)\n",
    "        if idade >= 0:\n",
    "            return idade, True\n",
    "        else:\n",
    "            return None, False\n",
    "    except ValueError:\n",
    "        return None, False\n",
    "\n",
    "#Uso da Função\n",
    "sucesso = False\n",
    "while su:\n",
    "    entrada = input('Digite sua idade')\n",
    "    idade_valida, sucesso = validar_idade(entrada)\n",
    "    print(validar_idade(entrada))\n",
    "    \n",
    "    if sucesso:\n",
    "        print(f'Idade válida: {idade_valida} anos')\n",
    "    else:\n",
    "        print('Idade inválida')YYYY"
   ]
  },
  {
   "cell_type": "markdown",
   "id": "23f7530e-f13e-443d-8879-a144e3c0420c",
   "metadata": {},
   "source": [
    "# Jogo da forca\n",
    "\n",
    "palavra_chave = 'PYTHON'\n",
    "chances = 5\n",
    "display = ['_','_','_','_','_','_']\n",
    "acertos = 0\n",
    "\n",
    "def subistituir_letra(letra):\n",
    "    i=0\n",
    "    for f in palavra_chave: \n",
    "        if f == letra:\n",
    "            display[i] = letra\n",
    "        i = i + 1\n",
    "    print(display)\n",
    "\n",
    "def testar_letra(letra):\n",
    "    if letra in palavra_chave:\n",
    "        subistituir_letra(letra)\n",
    "        acertos += 1\n",
    "        return True\n",
    "    else:\n",
    "        global chances\n",
    "        chances = chances - 1\n",
    "        print(display)\n",
    "        return False\n",
    "\n",
    "while chances > 0:\n",
    "    tentativa = input('Digite uma letra').upper()\n",
    "    resultado = testar_letra(tentativa)\n",
    "    \n",
    "    print(resultado)\n",
    "    print(chances)\n",
    "    "
   ]
  },
  {
   "cell_type": "code",
   "execution_count": 100,
   "id": "39556906-714c-4d48-9c79-1a4dbc9785bf",
   "metadata": {},
   "outputs": [
    {
     "name": "stdin",
     "output_type": "stream",
     "text": [
      "Digite uma letra p\n"
     ]
    },
    {
     "name": "stdout",
     "output_type": "stream",
     "text": [
      "['P', '_', '_', '_', '_', '_']\n",
      "True\n",
      "5\n"
     ]
    },
    {
     "name": "stdin",
     "output_type": "stream",
     "text": [
      "Digite uma letra y\n"
     ]
    },
    {
     "name": "stdout",
     "output_type": "stream",
     "text": [
      "['P', 'Y', '_', '_', '_', '_']\n",
      "True\n",
      "5\n"
     ]
    },
    {
     "name": "stdin",
     "output_type": "stream",
     "text": [
      "Digite uma letra t\n"
     ]
    },
    {
     "name": "stdout",
     "output_type": "stream",
     "text": [
      "['P', 'Y', 'T', '_', '_', '_']\n",
      "True\n",
      "5\n"
     ]
    },
    {
     "name": "stdin",
     "output_type": "stream",
     "text": [
      "Digite uma letra h\n"
     ]
    },
    {
     "name": "stdout",
     "output_type": "stream",
     "text": [
      "['P', 'Y', 'T', 'H', '_', '_']\n",
      "True\n",
      "5\n"
     ]
    },
    {
     "name": "stdin",
     "output_type": "stream",
     "text": [
      "Digite uma letra o\n"
     ]
    },
    {
     "name": "stdout",
     "output_type": "stream",
     "text": [
      "['P', 'Y', 'T', 'H', 'O', '_']\n",
      "True\n",
      "5\n"
     ]
    },
    {
     "name": "stdin",
     "output_type": "stream",
     "text": [
      "Digite uma letra n\n"
     ]
    },
    {
     "name": "stdout",
     "output_type": "stream",
     "text": [
      "['P', 'Y', 'T', 'H', 'O', 'N']\n",
      "True\n",
      "5\n"
     ]
    }
   ],
   "source": [
    "# Jogo da forca\n",
    "\n",
    "palavra_chave = 'PYTHON'\n",
    "chances = 5\n",
    "display = ['_','_','_','_','_','_']\n",
    "acertos = 0\n",
    "\n",
    "def subistituir_letra(letra):\n",
    "    i=0\n",
    "    for f in palavra_chave: \n",
    "        if f == letra:\n",
    "            display[i] = letra\n",
    "        i = i + 1\n",
    "    print(display)\n",
    "\n",
    "def testar_letra(letra):\n",
    "    if letra in palavra_chave:\n",
    "        subistituir_letra(letra)\n",
    "        global acertos\n",
    "        acertos += 1\n",
    "        return True\n",
    "    else:\n",
    "        global chances\n",
    "        chances = chances - 1\n",
    "        print(display)\n",
    "        return False\n",
    "\n",
    "while chances > 0 and '_' in display:\n",
    "    tentativa = input('Digite uma letra').upper()\n",
    "    resultado = testar_letra(tentativa)\n",
    "    \n",
    "    print(resultado)\n",
    "    print(chances)"
   ]
  },
  {
   "cell_type": "code",
   "execution_count": null,
   "id": "8acaf254-2673-4530-b13b-33d2d0a3ec8b",
   "metadata": {},
   "outputs": [],
   "source": [
    "\n"
   ]
  },
  {
   "cell_type": "code",
   "execution_count": null,
   "id": "6e62ae2f-87af-472a-9953-d4548f711def",
   "metadata": {},
   "outputs": [],
   "source": []
  }
 ],
 "metadata": {
  "kernelspec": {
   "display_name": "Python 3 (ipykernel)",
   "language": "python",
   "name": "python3"
  },
  "language_info": {
   "codemirror_mode": {
    "name": "ipython",
    "version": 3
   },
   "file_extension": ".py",
   "mimetype": "text/x-python",
   "name": "python",
   "nbconvert_exporter": "python",
   "pygments_lexer": "ipython3",
   "version": "3.12.7"
  }
 },
 "nbformat": 4,
 "nbformat_minor": 5
}
