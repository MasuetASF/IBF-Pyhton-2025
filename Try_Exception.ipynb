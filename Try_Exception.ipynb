{
 "cells": [
  {
   "cell_type": "code",
   "execution_count": 1,
   "id": "5449b33b-5166-46eb-84ff-cb1527b7d7b4",
   "metadata": {},
   "outputs": [
    {
     "name": "stdin",
     "output_type": "stream",
     "text": [
      "Digite sua nota 2\n"
     ]
    },
    {
     "name": "stdout",
     "output_type": "stream",
     "text": [
      "Sua nota 2.0 é válida\n"
     ]
    }
   ],
   "source": [
    "nota = input('Digite sua nota')\n",
    "\n",
    "try:\n",
    "    nota = float(nota)\n",
    "    print(f'Sua nota {nota} é válida')\n",
    "except:\n",
    "    print(f'Ocorreu um erro, digite sua nota novamente')"
   ]
  },
  {
   "cell_type": "code",
   "execution_count": 4,
   "id": "2c754965-d784-45f8-a583-7228a2c1f404",
   "metadata": {},
   "outputs": [
    {
     "name": "stdout",
     "output_type": "stream",
     "text": [
      "name error\n"
     ]
    }
   ],
   "source": [
    "\n",
    "try:\n",
    "    print(f'Sua nota {nota2} é valida')\n",
    "except NameError:\n",
    "    print('name error')\n",
    "\n",
    "    "
   ]
  },
  {
   "cell_type": "code",
   "execution_count": 7,
   "id": "f60226f4-7266-4db0-9655-2a750a73c0b7",
   "metadata": {},
   "outputs": [
    {
     "name": "stdin",
     "output_type": "stream",
     "text": [
      "Digite um número a\n"
     ]
    },
    {
     "name": "stdout",
     "output_type": "stream",
     "text": [
      "Erro: valor inválido\n",
      "Execução finalizada\n"
     ]
    }
   ],
   "source": [
    "try:\n",
    "    numero = int(input('Digite um número'))\n",
    "    if numero % 2 == 0:\n",
    "        print('Número par')\n",
    "    else:\n",
    "        print('Número ímpar')\n",
    "except ValueError:\n",
    "    print('Erro: valor inválido')\n",
    "finally:\n",
    "    print('Execução finalizada')"
   ]
  },
  {
   "cell_type": "code",
   "execution_count": 19,
   "id": "decf0f37-ad76-489f-8470-a88d2ab52bce",
   "metadata": {},
   "outputs": [
    {
     "name": "stdin",
     "output_type": "stream",
     "text": [
      "Digite um número para dividir:  1\n",
      "Digite o divisor:  0\n"
     ]
    },
    {
     "name": "stdout",
     "output_type": "stream",
     "text": [
      "division by zero\n",
      "Operação finalizada\n"
     ]
    }
   ],
   "source": [
    "try:\n",
    "    x = int(input('Digite um número para dividir: '))\n",
    "    y = int(input('Digite o divisor: '))        \n",
    "    #if y == 0:\n",
    "        #raise ZeroDivisionError('Divisão por zero não permitida')\n",
    "    print(f'Resultado: {x / y}')\n",
    "except ValueError:\n",
    "    print('Erro: apenas números válidos')\n",
    "except ZeroDivisionError as e:\n",
    "    print(e)\n",
    "finally:\n",
    "    print('Operação finalizada')"
   ]
  },
  {
   "cell_type": "code",
   "execution_count": null,
   "id": "e94ca304-73c9-43af-9129-3f00a69ec975",
   "metadata": {},
   "outputs": [],
   "source": [
    "#Peça um número de 1 a 5 \n",
    "\n",
    "hora = input('Digite um horario')"
   ]
  }
 ],
 "metadata": {
  "kernelspec": {
   "display_name": "Python 3 (ipykernel)",
   "language": "python",
   "name": "python3"
  },
  "language_info": {
   "codemirror_mode": {
    "name": "ipython",
    "version": 3
   },
   "file_extension": ".py",
   "mimetype": "text/x-python",
   "name": "python",
   "nbconvert_exporter": "python",
   "pygments_lexer": "ipython3",
   "version": "3.12.7"
  }
 },
 "nbformat": 4,
 "nbformat_minor": 5
}
