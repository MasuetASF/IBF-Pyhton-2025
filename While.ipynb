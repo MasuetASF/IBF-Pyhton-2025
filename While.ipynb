{
  "metadata": {
    "kernelspec": {
      "name": "python",
      "display_name": "Python (Pyodide)",
      "language": "python"
    },
    "language_info": {
      "codemirror_mode": {
        "name": "python",
        "version": 3
      },
      "file_extension": ".py",
      "mimetype": "text/x-python",
      "name": "python",
      "nbconvert_exporter": "python",
      "pygments_lexer": "ipython3",
      "version": "3.8"
    }
  },
  "nbformat_minor": 5,
  "nbformat": 4,
  "cells": [
    {
      "id": "51568c0f-5737-4056-afb8-e209ca4ec7d4",
      "cell_type": "code",
      "source": "#While",
      "metadata": {
        "trusted": true
      },
      "outputs": [],
      "execution_count": null
    },
    {
      "id": "adf74168-26d9-4c34-9a50-ce7bab2054f3",
      "cell_type": "code",
      "source": "i=1\nwhile i <= 10:\n    print(i)\n    i+=1",
      "metadata": {
        "trusted": true
      },
      "outputs": [
        {
          "name": "stdout",
          "output_type": "stream",
          "text": "1\n2\n3\n4\n5\n6\n7\n8\n9\n10\n"
        }
      ],
      "execution_count": 1
    },
    {
      "id": "98974a54-8a59-4b53-ada5-67722eb549d5",
      "cell_type": "code",
      "source": "i=10\nwhile i >= 1:\n    print(i)\n    i-=1",
      "metadata": {
        "trusted": true
      },
      "outputs": [
        {
          "name": "stdout",
          "output_type": "stream",
          "text": "10\n9\n8\n7\n6\n5\n4\n3\n2\n1\n"
        }
      ],
      "execution_count": 2
    },
    {
      "id": "c8ef7469-0735-41ff-b75f-36e3e1caa5db",
      "cell_type": "code",
      "source": "#Exercicios ",
      "metadata": {
        "trusted": true
      },
      "outputs": [],
      "execution_count": null
    },
    {
      "id": "0a2053d0-36e5-4e21-97b6-41d867978945",
      "cell_type": "code",
      "source": "#2 Imprimir apenas os números pares de 0 a 20\ni=0\nwhile i <= 20:\n    if(i % 2==0):\n        print(i)\n    i += 1",
      "metadata": {
        "trusted": true
      },
      "outputs": [],
      "execution_count": null
    },
    {
      "id": "039b844c-3802-4b86-b140-4b64a40b5609",
      "cell_type": "code",
      "source": "#3 - Somar valores até ultrapassar 100\nsoma = 0\nn=1\nwhile soma < 100:\n    soma += n\n    n+=1\n    print(soma)",
      "metadata": {
        "trusted": true
      },
      "outputs": [
        {
          "name": "stdout",
          "output_type": "stream",
          "text": "1\n3\n6\n10\n15\n21\n28\n36\n45\n55\n66\n78\n91\n105\n"
        }
      ],
      "execution_count": 20
    },
    {
      "id": "9aa02ce6-4be3-42aa-a7f6-19475ccb1b76",
      "cell_type": "code",
      "source": "",
      "metadata": {
        "trusted": true
      },
      "outputs": [],
      "execution_count": null
    },
    {
      "id": "84fa9a3c-0f91-4900-b5a4-dff15f74e97a",
      "cell_type": "code",
      "source": "",
      "metadata": {
        "trusted": true
      },
      "outputs": [],
      "execution_count": null
    }
  ]
}