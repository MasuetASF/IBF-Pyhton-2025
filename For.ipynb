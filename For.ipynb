{
  "metadata": {
    "kernelspec": {
      "name": "python",
      "display_name": "Python (Pyodide)",
      "language": "python"
    },
    "language_info": {
      "codemirror_mode": {
        "name": "python",
        "version": 3
      },
      "file_extension": ".py",
      "mimetype": "text/x-python",
      "name": "python",
      "nbconvert_exporter": "python",
      "pygments_lexer": "ipython3",
      "version": "3.8"
    }
  },
  "nbformat_minor": 5,
  "nbformat": 4,
  "cells": [
    {
      "id": "b6067341-48cf-4735-95dd-ba9d116186a0",
      "cell_type": "code",
      "source": "#LAÇO DE REPETIÇÂO FOR",
      "metadata": {
        "trusted": true
      },
      "outputs": [],
      "execution_count": null
    },
    {
      "id": "011fb120-2e58-4da9-ae3b-2ddc4830aebc",
      "cell_type": "code",
      "source": "for i in range (2,21,2):\n    print(i)",
      "metadata": {
        "trusted": true
      },
      "outputs": [
        {
          "name": "stdout",
          "output_type": "stream",
          "text": "2\n4\n6\n8\n10\n12\n14\n16\n18\n20\n"
        }
      ],
      "execution_count": 27
    },
    {
      "id": "7dbc7e3e-6d0f-4e9b-aaf0-86f665d8ac14",
      "cell_type": "code",
      "source": "for letra in 'Programação':\n    print(letra)",
      "metadata": {
        "trusted": true
      },
      "outputs": [
        {
          "name": "stdout",
          "output_type": "stream",
          "text": "P\nr\no\ng\nr\na\nm\na\nç\nã\no\n"
        }
      ],
      "execution_count": 28
    },
    {
      "id": "916c46a3-611d-451c-ab61-2c990a54c006",
      "cell_type": "code",
      "source": "notas = {\n    'Potuguês': 7, \n    'Matemática': 9, \n    'Lógica': 7, \n    'Algoritmo': 7\n}\n\nfor chave, valor in notas.items():\n    print(chave,':',valor)",
      "metadata": {
        "trusted": true
      },
      "outputs": [
        {
          "name": "stdout",
          "output_type": "stream",
          "text": "Potuguês : 7\nMatemática : 9\nLógica : 7\nAlgoritmo : 7\n"
        }
      ],
      "execution_count": 29
    },
    {
      "id": "1851984c-e877-4047-b97c-fc89a4243b38",
      "cell_type": "code",
      "source": "#Exercicios FOR\n\n#1 - Imprima todos os números de 1 a 20:\nfor n in range(1,21):\n    print(n)",
      "metadata": {
        "trusted": true
      },
      "outputs": [
        {
          "name": "stdout",
          "output_type": "stream",
          "text": "1\n2\n3\n4\n5\n6\n7\n8\n9\n10\n11\n12\n13\n14\n15\n16\n17\n18\n19\n20\n"
        }
      ],
      "execution_count": 30
    },
    {
      "id": "8d7d4211-4769-4dff-b188-66e2b1462296",
      "cell_type": "code",
      "source": "#2 - Imprima cada letra da palavra Programação:\nfor l in 'Programação':\n    print(l)",
      "metadata": {
        "trusted": true
      },
      "outputs": [
        {
          "name": "stdout",
          "output_type": "stream",
          "text": "P\nr\no\ng\nr\na\nm\na\nç\nã\no\n"
        }
      ],
      "execution_count": 31
    },
    {
      "id": "9526b145-e81b-466c-97bc-a141b5993221",
      "cell_type": "code",
      "source": "#3 - Calcular a soma dos números de 1 a 100\ntotal = 0\nfor num in range(1,101):\n   total += num\nprint(total)",
      "metadata": {
        "trusted": true
      },
      "outputs": [
        {
          "name": "stdout",
          "output_type": "stream",
          "text": "5050\n"
        }
      ],
      "execution_count": 32
    },
    {
      "id": "88a6f5f1-eaf3-4345-a644-16a66adcb4db",
      "cell_type": "code",
      "source": "#4 - Contar quantos números ímpares existem entre 1 e 50:\n\n",
      "metadata": {
        "trusted": true
      },
      "outputs": [],
      "execution_count": 38
    },
    {
      "id": "23b363d3-e165-469b-8c44-4e8a2ebefa4a",
      "cell_type": "code",
      "source": "#5 - Criar uma tabuada do número 6",
      "metadata": {
        "trusted": true
      },
      "outputs": [],
      "execution_count": null
    },
    {
      "id": "d074458b-a63b-4c25-b14a-aaae822da848",
      "cell_type": "code",
      "source": "#6 Listar nomes com mais de 4 letras",
      "metadata": {
        "trusted": true
      },
      "outputs": [],
      "execution_count": null
    },
    {
      "id": "37820afe-4779-4879-9b80-4a15881c7e4f",
      "cell_type": "code",
      "source": "",
      "metadata": {
        "trusted": true
      },
      "outputs": [],
      "execution_count": null
    },
    {
      "id": "76225a18-d547-41ec-ad63-c62fd3a02bca",
      "cell_type": "code",
      "source": "#Criar uma tabuada do número 6\nm = 6\nfor n in range(1,11):\n    print(f\"{m}x{n}={m*n}\") ",
      "metadata": {
        "trusted": true
      },
      "outputs": [
        {
          "name": "stdout",
          "output_type": "stream",
          "text": "6x1=6\n6x2=12\n6x3=18\n6x4=24\n6x5=30\n6x6=36\n6x7=42\n6x8=48\n6x9=54\n6x10=60\n"
        }
      ],
      "execution_count": 7
    },
    {
      "id": "65f49e97-fb02-4c70-a266-f21f6ac6d4c0",
      "cell_type": "code",
      "source": "for n in range(1,11):\n    print('-')    \n    for m in range(1,11):\n        print(f\"{n}x{m}={m*n}\")\n\n    ",
      "metadata": {
        "trusted": true
      },
      "outputs": [
        {
          "name": "stdout",
          "output_type": "stream",
          "text": "-\n1x1=1\n1x2=2\n1x3=3\n1x4=4\n1x5=5\n1x6=6\n1x7=7\n1x8=8\n1x9=9\n1x10=10\n-\n2x1=2\n2x2=4\n2x3=6\n2x4=8\n2x5=10\n2x6=12\n2x7=14\n2x8=16\n2x9=18\n2x10=20\n-\n3x1=3\n3x2=6\n3x3=9\n3x4=12\n3x5=15\n3x6=18\n3x7=21\n3x8=24\n3x9=27\n3x10=30\n-\n4x1=4\n4x2=8\n4x3=12\n4x4=16\n4x5=20\n4x6=24\n4x7=28\n4x8=32\n4x9=36\n4x10=40\n-\n5x1=5\n5x2=10\n5x3=15\n5x4=20\n5x5=25\n5x6=30\n5x7=35\n5x8=40\n5x9=45\n5x10=50\n-\n6x1=6\n6x2=12\n6x3=18\n6x4=24\n6x5=30\n6x6=36\n6x7=42\n6x8=48\n6x9=54\n6x10=60\n-\n7x1=7\n7x2=14\n7x3=21\n7x4=28\n7x5=35\n7x6=42\n7x7=49\n7x8=56\n7x9=63\n7x10=70\n-\n8x1=8\n8x2=16\n8x3=24\n8x4=32\n8x5=40\n8x6=48\n8x7=56\n8x8=64\n8x9=72\n8x10=80\n-\n9x1=9\n9x2=18\n9x3=27\n9x4=36\n9x5=45\n9x6=54\n9x7=63\n9x8=72\n9x9=81\n9x10=90\n-\n10x1=10\n10x2=20\n10x3=30\n10x4=40\n10x5=50\n10x6=60\n10x7=70\n10x8=80\n10x9=90\n10x10=100\n"
        }
      ],
      "execution_count": 16
    },
    {
      "id": "9d4e6e78-02a0-4008-874a-4402566153fe",
      "cell_type": "code",
      "source": "#8- Exibir a soma dos números pares de uma lista\nlista = [1,2,3,4,5,6,7,8,9]\ntotal = 0\nfor num in lista:\n    if(num%2==0):\n        total += num\nprint(total)\n",
      "metadata": {
        "trusted": true
      },
      "outputs": [
        {
          "name": "stdout",
          "output_type": "stream",
          "text": "20\n"
        }
      ],
      "execution_count": 17
    },
    {
      "id": "3e9016f8-ada6-4654-953b-9a942730e369",
      "cell_type": "code",
      "source": "#9 - Criar uma nova lista com o dobro de cada valor\nlista = [1,2,3,4]\nlista2=[]\nn=0\nfor num in lista:\n    n = num*2\n    lista2.append(n)\nprint(lista2)",
      "metadata": {
        "trusted": true
      },
      "outputs": [
        {
          "name": "stdout",
          "output_type": "stream",
          "text": "[2, 4, 6, 8]\n"
        }
      ],
      "execution_count": 22
    },
    {
      "id": "7862dfe2-4801-4528-b904-d9ea8655a0a7",
      "cell_type": "code",
      "source": "",
      "metadata": {
        "trusted": true
      },
      "outputs": [],
      "execution_count": null
    }
  ]
}